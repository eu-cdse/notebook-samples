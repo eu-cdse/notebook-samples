{
 "cells": [
  {
   "cell_type": "markdown",
   "id": "331f6288-12a3-4aac-8374-a9fa24ef01bf",
   "metadata": {},
   "source": [
    "## Visualising interactive maps\n",
    "This notebook is a simple guide on how to visualize raster images using the **leafmap** and **localtileserver** libraries in combination with **jupyter-server-proxy**.\n",
    "\n",
    "Using these packages locally is quite easy; however, in a JupyterHub environment, raster visualisation libraries typically need **jupyter-server-proxy** to function.\n",
    "\n",
    "To help users configure these packages using environment variables, this notebook was created."
   ]
  },
  {
   "cell_type": "markdown",
   "id": "3fd16b8a-9c31-4ff3-a81f-eb5ef0df28e3",
   "metadata": {},
   "source": "First, we start by retrieving the data that we use in this example. We will demonstrate the data visualisations with a DEM geotiff."
  },
  {
   "cell_type": "code",
   "execution_count": 19,
   "id": "c3ee9b5b8961ca87",
   "metadata": {
    "ExecuteTime": {
     "end_time": "2025-10-23T13:37:19.886500Z",
     "start_time": "2025-10-23T13:37:14.734122Z"
    }
   },
   "outputs": [
    {
     "data": {
      "text/plain": [
       "'auxdata/CopDEM_COG/copernicus-dem-90m/Copernicus_DSM_COG_30_N49_00_E007_00_DEM/Copernicus_DSM_COG_30_N49_00_E007_00_DEM.tif'"
      ]
     },
     "execution_count": 19,
     "metadata": {},
     "output_type": "execute_result"
    }
   ],
   "source": [
    "import pystac_client\n",
    "\n",
    "URL = \"https://stac.dataspace.copernicus.eu/v1\"\n",
    "cat = pystac_client.Client.open(URL)\n",
    "cat.add_conforms_to(\"ITEM_SEARCH\")\n",
    "item = list(cat.get_items(\"Copernicus_DSM_COG_30_N49_00_E007_00_DEM\"))[0]\n",
    "s3_path = item.assets[\"data\"].href.replace(\"s3://eodata/\", \"\")\n",
    "s3_path"
   ]
  },
  {
   "cell_type": "markdown",
   "id": "7a976ac2-878c-4b88-a869-57e2749b6b69",
   "metadata": {},
   "source": [
    "Now lets download the file!"
   ]
  },
  {
   "cell_type": "code",
   "execution_count": 20,
   "id": "348c58b2f17ff8ad",
   "metadata": {
    "ExecuteTime": {
     "end_time": "2025-10-23T13:41:00.848499Z",
     "start_time": "2025-10-23T13:40:56.804972Z"
    }
   },
   "outputs": [
    {
     "data": {
      "text/plain": [
       "'auxdata/CopDEM_COG/copernicus-dem-90m/Copernicus_DSM_COG_30_N49_00_E007_00_DEM/Copernicus_DSM_COG_30_N49_00_E007_00_DEM.tif'"
      ]
     },
     "execution_count": 20,
     "metadata": {},
     "output_type": "execute_result"
    }
   ],
   "source": [
    "import boto3\n",
    "import os\n",
    "\n",
    "access_key = os.environ.get(\"CDSE_S3_ACCESS_KEY\")\n",
    "secret_key = os.environ.get(\"CDSE_S3_SECRET_KEY\")\n",
    "\n",
    "session = boto3.session.Session()\n",
    "s3 = boto3.resource(\n",
    "    \"s3\",\n",
    "    endpoint_url=\"https://eodata.dataspace.copernicus.eu\",\n",
    "    aws_access_key_id=access_key,\n",
    "    aws_secret_access_key=secret_key,\n",
    "    region_name=\"default\",\n",
    ")  # generated secrets\n",
    "\n",
    "\n",
    "def download(bucket, product: str, target: str = \"\") -> str:\n",
    "    \"\"\"\n",
    "    Downloads every file in bucket with provided product as prefix\n",
    "\n",
    "    Raises FileNotFoundError if the product was not found\n",
    "\n",
    "    Args:\n",
    "        bucket: boto3 Resource bucket object\n",
    "        product: Path to product\n",
    "        target: Local catalog for downloaded files. Should end with an `/`. Default current directory.\n",
    "    \"\"\"\n",
    "    files = bucket.objects.filter(Prefix=product)\n",
    "\n",
    "    if not list(files):\n",
    "        raise FileNotFoundError(f\"Could not find any files for {product}\")\n",
    "    for file in files:\n",
    "        os.makedirs(os.path.dirname(file.key), exist_ok=True)\n",
    "        if not os.path.isdir(file.key):\n",
    "            bucket.download_file(file.key, f\"{target}{file.key}\")\n",
    "    return f\"{target}{file.key}\"\n",
    "\n",
    "\n",
    "# path to the product to download\n",
    "file_path = download(s3.Bucket(\"eodata\"), s3_path)\n",
    "file_path"
   ]
  },
  {
   "cell_type": "markdown",
   "id": "a515b5bc-469a-4ecd-afec-3cdeac95b7d3",
   "metadata": {},
   "source": [
    "### Localtileserver\n",
    "The localtileserver allows users to create a backend tileserver that converts local raster data (e.g. GeoTIFFs) into web map tiles (XYZ tiles) so they can be displayed interactively in a web map or notebook. We can use the tileserver in combination with the ipyleaflet library to visualise rasters. Here is an example on how to run this package."
   ]
  },
  {
   "cell_type": "code",
   "execution_count": 21,
   "id": "5deae728-e8ab-4d1f-9fd4-8258f3f44900",
   "metadata": {
    "ExecuteTime": {
     "end_time": "2025-10-23T13:42:50.419704Z",
     "start_time": "2025-10-23T13:42:50.405387Z"
    }
   },
   "outputs": [
    {
     "data": {
      "application/vnd.jupyter.widget-view+json": {
       "model_id": "b0aed4ed2835417d90f6180932930539",
       "version_major": 2,
       "version_minor": 0
      },
      "text/plain": [
       "Map(center=[49.500417, 7.499583], controls=(ZoomControl(options=['position', 'zoom_in_text', 'zoom_in_title', …"
      ]
     },
     "execution_count": 21,
     "metadata": {},
     "output_type": "execute_result"
    }
   ],
   "source": [
    "from localtileserver import get_leaflet_tile_layer, TileClient\n",
    "from ipyleaflet import Map, FullScreenControl\n",
    "import os\n",
    "\n",
    "# Update LOCALTILESERVER_CLIENT_PREFIX to handle the JUPYTERHUB_SERVICE_PREFIX.\n",
    "if (\n",
    "    os.environ.get(\"JUPYTERHUB_SERVICE_PREFIX\")\n",
    "    and \"LOCALTILESERVER_CLIENT_PREFIX\" not in os.environ\n",
    "):\n",
    "    os.environ[\n",
    "        \"LOCALTILESERVER_CLIENT_PREFIX\"\n",
    "    ] = f\"{os.environ['JUPYTERHUB_SERVICE_PREFIX']}proxy/{{port}}\"\n",
    "\n",
    "# After which, you can create a tile server from local raster file\n",
    "tile_client = TileClient(file_path)\n",
    "\n",
    "# Create the layers using the tileservers\n",
    "layer = get_leaflet_tile_layer(tile_client)\n",
    "\n",
    "# Create the map and add the layers\n",
    "m = Map(center=tile_client.center(), zoom=8)\n",
    "m.add_layer(layer)\n",
    "m.add_control(FullScreenControl())\n",
    "\n",
    "# Visualise\n",
    "m"
   ]
  },
  {
   "cell_type": "markdown",
   "id": "d3f89c19-3f98-4667-9254-893799cba9ac",
   "metadata": {},
   "source": [
    "### Leafmap\n",
    "Similarly to localtileserver, Leafmap is a package used to create interactive maps with minimal coding. It is built on several open-source libraries such as folium and ipyleaflet, which make it easy to generate interactive visualisations. Below is a code snippet that demonstrates how to visualize a raster.\n",
    "\n",
    "Leafmap appends an extra '/' to the end of the JUPYTERHUB_SERVICE_PREFIX. However, by default, JUPYTERHUB_SERVICE_PREFIX already ends with a '/'. This duplication can cause rendering issues, which can be resolved by **temporarily** removing the trailing '/' from the prefix."
   ]
  },
  {
   "cell_type": "code",
   "execution_count": 22,
   "id": "bb6483a7-d6aa-4a72-9a13-7dce5f3fed81",
   "metadata": {
    "ExecuteTime": {
     "end_time": "2025-10-23T13:42:28.561393Z",
     "start_time": "2025-10-23T13:42:28.429578Z"
    }
   },
   "outputs": [
    {
     "data": {
      "application/vnd.jupyter.widget-view+json": {
       "model_id": "965364951fa94e0f841f8ff66dc26345",
       "version_major": 2,
       "version_minor": 0
      },
      "text/plain": [
       "Map(center=[49.500417, 7.499583], controls=(ZoomControl(options=['position', 'zoom_in_text', 'zoom_in_title', …"
      ]
     },
     "execution_count": 22,
     "metadata": {},
     "output_type": "execute_result"
    }
   ],
   "source": [
    "import os\n",
    "import leafmap.leafmap as leafmap\n",
    "\n",
    "if os.environ.get(\"JUPYTERHUB_SERVICE_PREFIX\"):\n",
    "    os.environ[\"JUPYTERHUB_SERVICE_PREFIX\"] = (\n",
    "        os.environ[\"JUPYTERHUB_SERVICE_PREFIX\"][:-1]\n",
    "        if os.environ[\"JUPYTERHUB_SERVICE_PREFIX\"][-1] == \"/\"\n",
    "        else os.environ[\"JUPYTERHUB_SERVICE_PREFIX\"]\n",
    "    )\n",
    "\n",
    "m = leafmap.Map()\n",
    "m.add_raster(file_path)\n",
    "m"
   ]
  },
  {
   "cell_type": "markdown",
   "id": "9eede22d-8f59-4399-b81c-156757e2f59c",
   "metadata": {},
   "source": [
    "When you are done with your render, add the '/' back at the end of the prefix."
   ]
  },
  {
   "cell_type": "code",
   "execution_count": 23,
   "id": "5ce16355-ccdd-4a3b-8296-66730ec851ca",
   "metadata": {
    "ExecuteTime": {
     "end_time": "2025-10-23T13:42:46.074187Z",
     "start_time": "2025-10-23T13:42:46.071056Z"
    }
   },
   "outputs": [],
   "source": [
    "if os.environ.get(\"JUPYTERHUB_SERVICE_PREFIX\"):\n",
    "    os.environ[\"JUPYTERHUB_SERVICE_PREFIX\"] = (\n",
    "        os.environ[\"JUPYTERHUB_SERVICE_PREFIX\"]\n",
    "        if os.environ[\"JUPYTERHUB_SERVICE_PREFIX\"][-1] == \"/\"\n",
    "        else f\"{os.environ['JUPYTERHUB_SERVICE_PREFIX']}/\"\n",
    "    )"
   ]
  },
  {
   "cell_type": "code",
   "execution_count": null,
   "id": "fea1029c-cd85-4119-89da-6d12348b02b8",
   "metadata": {
    "ExecuteTime": {
     "end_time": "2025-10-17T14:03:10.005970Z",
     "start_time": "2025-10-17T14:03:10.004317Z"
    }
   },
   "outputs": [],
   "source": []
  }
 ],
 "metadata": {
  "kernelspec": {
   "display_name": "Geo science",
   "language": "python",
   "name": "geo"
  },
  "language_info": {
   "codemirror_mode": {
    "name": "ipython",
    "version": 3
   },
   "file_extension": ".py",
   "mimetype": "text/x-python",
   "name": "python",
   "nbconvert_exporter": "python",
   "pygments_lexer": "ipython3",
   "version": "3.11.9"
  }
 },
 "nbformat": 4,
 "nbformat_minor": 5
}
