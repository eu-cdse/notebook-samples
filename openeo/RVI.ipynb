{
 "cells": [
  {
   "cell_type": "markdown",
   "id": "71de7d5d-c2a0-4403-b4ae-4e061c99ce16",
   "metadata": {},
   "source": [
    "# Calculate Radar Vegetation Index(RVI) using Sentinel-1 GRD collection"
   ]
  },
  {
   "cell_type": "markdown",
   "id": "9be5528f-6acf-4eef-a9f7-51d2773a8899",
   "metadata": {},
   "source": [
    "In this notebook, we want to study the health condition of vegetation using radar. Thus, we will use the Sentinel-1 GRD collection available within the Copernicus Data Space Ecosystem.  The Radar Vegetation Index (RVI) is a measure used in remote sensing and agriculture to assess the health and condition of vegetation using radar data. \n",
    "\n",
    "The RVI has been used in several previous research studies, especially for predicting the growth level of crop vegetation over time and many more. However, here, we will stick to a simple example of calculating RVI.\n",
    "\n",
    "The formula adopted in this notebook is as follows:\n",
    "\n",
    "$\\mathrm{RVI}=\\frac{4 \\sigma^0{ }_{V H}}{\\sigma^0{ }_{V V}+\\sigma^0{ }_{V H}}$,\n",
    "\n",
    "where $\\sigma^0{ }_{V H},\\sigma^0{ }_{V V}$ and $\\sigma^0{ }_{V H}$ are the polarised backscattering coefficients,\n",
    "\n",
    "Reference:\n",
    "* https://www.mdpi.com/2076-3417/9/4/655\n",
    "* https://forum.step.esa.int/t/creating-radar-vegetation-index/12444/18"
   ]
  },
  {
   "cell_type": "code",
   "execution_count": 2,
   "id": "e63e4782-b825-474f-90f7-8fe783f19897",
   "metadata": {},
   "outputs": [],
   "source": [
    "import openeo\n",
    "from openeo.processes import sqrt"
   ]
  },
  {
   "cell_type": "code",
   "execution_count": 3,
   "id": "ef88e374-16fe-4d38-9c80-2e75f91fb89d",
   "metadata": {},
   "outputs": [
    {
     "name": "stdout",
     "output_type": "stream",
     "text": [
      "Authenticated using refresh token.\n"
     ]
    }
   ],
   "source": [
    "connection = openeo.connect(\"openeo.dataspace.copernicus.eu/\").authenticate_oidc()"
   ]
  },
  {
   "cell_type": "markdown",
   "id": "6bf4d510-9b42-404e-8cc9-17e52621973e",
   "metadata": {},
   "source": [
    "## Load the collection"
   ]
  },
  {
   "cell_type": "code",
   "execution_count": 4,
   "id": "c2977845-cd97-4569-9a99-c74872e20eb3",
   "metadata": {},
   "outputs": [],
   "source": [
    "s1 = connection.load_collection(\n",
    "    \"SENTINEL1_GRD\",\n",
    "    temporal_extent=[\"2017-05-03\", \"2017-08-03\"],\n",
    "    spatial_extent={\"west\": 5.15, \"south\": 51.20, \"east\": 5.25, \"north\": 51.35},\n",
    "    bands=[\"VV\", \"VH\"],\n",
    ")"
   ]
  },
  {
   "cell_type": "markdown",
   "id": "6634ef05-9658-4eba-a527-b273997255b3",
   "metadata": {},
   "source": [
    "Given that the \"gamma0-terrain\" coefficient is not currently supported in the openEO backend implementation of the Copernicus Data Space Ecosystem at the time of preparing this notebook, we will use \"sigma0-ellipsoid\" coefficient for SAR backscattering computation."
   ]
  },
  {
   "cell_type": "code",
   "execution_count": 5,
   "id": "98bc79ca-c68a-446f-ad6f-b1ff58697d4c",
   "metadata": {},
   "outputs": [],
   "source": [
    "s1 = s1.sar_backscatter(coefficient=\"sigma0-ellipsoid\")"
   ]
  },
  {
   "cell_type": "markdown",
   "id": "08f636c5-92da-4b7a-94dc-c917f028079c",
   "metadata": {},
   "source": [
    "Let's apply the formula mentioned above:"
   ]
  },
  {
   "cell_type": "code",
   "execution_count": 6,
   "id": "1a6423e0-d48c-4d1b-ae42-e129df18d8ad",
   "metadata": {},
   "outputs": [],
   "source": [
    "rvi = (4 * (s1.band(\"VH\"))) / (s1.band(\"VV\") + s1.band(\"VH\"))"
   ]
  },
  {
   "cell_type": "code",
   "execution_count": null,
   "id": "586ced01-7b65-48b0-b42b-9c0a2b127af4",
   "metadata": {},
   "outputs": [
    {
     "name": "stdout",
     "output_type": "stream",
     "text": [
      "0:00:00 Job 'j-240123fbca354a85835afe8471d18055': send 'start'\n",
      "0:00:14 Job 'j-240123fbca354a85835afe8471d18055': created (progress N/A)\n",
      "0:00:19 Job 'j-240123fbca354a85835afe8471d18055': created (progress N/A)\n",
      "0:00:26 Job 'j-240123fbca354a85835afe8471d18055': created (progress N/A)\n",
      "0:00:34 Job 'j-240123fbca354a85835afe8471d18055': running (progress N/A)\n",
      "0:00:44 Job 'j-240123fbca354a85835afe8471d18055': running (progress N/A)\n",
      "0:00:57 Job 'j-240123fbca354a85835afe8471d18055': running (progress N/A)\n",
      "0:01:19 Job 'j-240123fbca354a85835afe8471d18055': running (progress N/A)\n",
      "0:01:38 Job 'j-240123fbca354a85835afe8471d18055': running (progress N/A)\n",
      "0:02:03 Job 'j-240123fbca354a85835afe8471d18055': running (progress N/A)\n",
      "0:02:33 Job 'j-240123fbca354a85835afe8471d18055': running (progress N/A)\n",
      "0:03:11 Job 'j-240123fbca354a85835afe8471d18055': running (progress N/A)\n"
     ]
    }
   ],
   "source": [
    "job= rvi.execute_batch(title=\"RVI\", outputfile=\"RVI.nc\")"
   ]
  },
  {
   "cell_type": "markdown",
   "id": "48cf6047-0819-4d26-af3a-2533a154e7dc",
   "metadata": {},
   "source": [
    "## Let's plot RVI result"
   ]
  },
  {
   "cell_type": "code",
   "execution_count": null,
   "id": "05758c46-ade8-4d42-9b30-760752e1835e",
   "metadata": {},
   "outputs": [],
   "source": [
    "import matplotlib.pyplot as plt\n",
    "import xarray as xr"
   ]
  },
  {
   "cell_type": "code",
   "execution_count": null,
   "id": "8c5eb032-ce56-47ea-945f-ee697709d821",
   "metadata": {},
   "outputs": [],
   "source": [
    "ds = xr.load_dataset(\"RVI.nc\")"
   ]
  },
  {
   "cell_type": "code",
   "execution_count": null,
   "id": "2801a8b7-a280-4cd7-b566-ccbd8fc14af3",
   "metadata": {},
   "outputs": [],
   "source": [
    "data = ds[[\"var\"]].to_array(dim=\"bands\")\n",
    "\n",
    "fig, axes = plt.subplots(ncols=3, figsize=(9, 3), dpi=300, sharey=True)\n",
    "data.mean(dim=\"t\")[0].plot.imshow(vmin=0, vmax=1, ax=axes[0])\n",
    "axes[0].set_title(\"Mean NDVI\")\n",
    "data.max(dim=\"t\")[0].plot.imshow(vmin=0, vmax=1, ax=axes[1])\n",
    "axes[1].set_title(\"Max NDVI\")\n",
    "data.median(dim=\"t\")[0].plot.imshow(vmin=0, vmax=1, ax=axes[2])\n",
    "axes[2].set_title(\"Median NDVI\")"
   ]
  },
  {
   "cell_type": "markdown",
   "id": "c9afb6a1-39be-460c-8f05-453d7cd73d98",
   "metadata": {},
   "source": [
    "Let us further visualise the mean timeseries NDVI for this area."
   ]
  },
  {
   "cell_type": "code",
   "execution_count": null,
   "id": "5416523f-86ab-449f-a13f-3443a432e3c9",
   "metadata": {},
   "outputs": [],
   "source": [
    "f, axarr = plt.subplots(dpi=200, figsize=(18, 6))\n",
    "axarr.plot(data.t.to_numpy(), data.mean(dim=(\"x\", \"y\"))[0])"
   ]
  },
  {
   "cell_type": "markdown",
   "id": "b2947d2b-d152-41da-b65e-6d9731bcecd8",
   "metadata": {},
   "source": [
    "So, looking at the plot, it looks like the vegetation has increased over time."
   ]
  }
 ],
 "metadata": {
  "kernelspec": {
   "display_name": "OpenEO",
   "language": "python",
   "name": "openeo"
  },
  "language_info": {
   "codemirror_mode": {
    "name": "ipython",
    "version": 3
   },
   "file_extension": ".py",
   "mimetype": "text/x-python",
   "name": "python",
   "nbconvert_exporter": "python",
   "pygments_lexer": "ipython3",
   "version": "3.11.4"
  }
 },
 "nbformat": 4,
 "nbformat_minor": 5
}
