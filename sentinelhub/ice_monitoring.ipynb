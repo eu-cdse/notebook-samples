{
 "cells": [
  {
   "cell_type": "markdown",
   "metadata": {},
   "source": [
    "# Classification of Ice and Open Water in Nizhnesvirsky Lower Bay using Sentinel-1 IW Product"
   ]
  },
  {
   "cell_type": "markdown",
   "metadata": {},
   "source": [
    "The Nizhnesvirsky lower bay is a vital part of a river system characterized by a dynamic freeze-thaw cycle. Understanding the extent of ice coverage and open water in this region is crucial for various applications, including navigation, ecosystem monitoring, and climate research. In this Jupyter notebook, we will leverage satellite imagery from the Sentinel-1 Interferometric Wide (IW) product, along with remote sensing principles, to classify ice and open water over a period of 8 months, from September 2022 to May 2023.\n",
    "\n",
    "The Sentinel-1 satellite offers reliable and frequent radar imaging capabilities, making it ideal for monitoring ice and water bodies. The Sentinel-1 IW product provides Synthetic Aperture Radar (SAR) data, which is unaffected by weather conditions, daylight, or cloud cover. SAR data measures the backscattered electromagnetic waves, allowing us to distinguish between different surface types."
   ]
  },
  {
   "cell_type": "markdown",
   "metadata": {},
   "source": [
    "First, let us import all the necessary libraries."
   ]
  },
  {
   "cell_type": "code",
   "execution_count": null,
   "metadata": {},
   "outputs": [],
   "source": [
    "import datetime\n",
    "import getpass\n",
    "\n",
    "import matplotlib.pyplot as plt\n",
    "from matplotlib.patches import Patch\n",
    "import numpy as np\n",
    "import geopandas as gpd\n",
    "import json\n",
    "from ipyleaflet import Map, GeoJSON, basemaps\n",
    "\n",
    "from sentinelhub import (\n",
    "    SHConfig,\n",
    "    Geometry,\n",
    "    DataCollection,\n",
    "    MimeType,\n",
    "    SentinelHubDownloadClient,\n",
    "    SentinelHubRequest,\n",
    "    bbox_to_dimensions,\n",
    ")"
   ]
  },
  {
   "cell_type": "markdown",
   "metadata": {
    "tags": []
   },
   "source": [
    "### Credentials\n",
    "\n",
    "Credentials for Sentinel Hub services are automatically injected as environment variables. It is therefore easy to populate Sentinel Hub's credential manager with the values. To obtain your `client_id` & `client_secret` you need to navigate to your [Dashboard](https://shapps.dataspace.copernicus.eu/dashboard/#/). In the User Settings you can create a new OAuth Client to generate these credentials. For more detailed instructions, visit the relevent [documentation page](https://documentation.dataspace.copernicus.eu/APIs/SentinelHub/Overview/Authentication.html).\n",
    "\n",
    "Now that you have your `client_id` & `client_secret`, it is recommended to configure a new profile in your Sentinel Hub Python package. Instructions on how to configure your Sentinel Hub Python package can be found [here](https://sentinelhub-py.readthedocs.io/en/latest/configure.html). Using these instructions you can create a profile specific to using the package for accessing Copernicus Data Space Ecosystem data collections. This is useful as changes to the the config class are usually only temporary in your notebook and by saving the configuration to your profile you won't need to generate new credentials or overwrite/change the default profile each time you rerun or write a new Jupyter Notebook. \n",
    "\n",
    "If you are a first time user of the Sentinel Hub Python package for Copernicus Data Space Ecosystem, you should create a profile specific to the Copernicus Data Space Ecosystem. You can do this in the following cell:"
   ]
  },
  {
   "cell_type": "code",
   "execution_count": null,
   "metadata": {
    "tags": []
   },
   "outputs": [],
   "source": [
    "# Only run this cell if you have not created a configuration.\n",
    "\n",
    "config = SHConfig()\n",
    "config.sh_client_id = getpass.getpass(\"Enter your SentinelHub client id\")\n",
    "config.sh_client_secret = getpass.getpass(\"Enter your SentinelHub client secret\")\n",
    "config.sh_token_url = \"https://identity.dataspace.copernicus.eu/auth/realms/CDSE/protocol/openid-connect/token\"\n",
    "config.sh_base_url = \"https://sh.dataspace.copernicus.eu\"\n",
    "config.save(\"cdse\")"
   ]
  },
  {
   "cell_type": "markdown",
   "metadata": {},
   "source": [
    "However, if you have already configured a profile in Sentinel Hub Python for the Copernicus Data Space Ecosystem, then you can run the below cell entering the profile name as a string replacing `{profile_name}`."
   ]
  },
  {
   "cell_type": "code",
   "execution_count": null,
   "metadata": {},
   "outputs": [],
   "source": [
    "config = SHConfig({\"profile_name\"})"
   ]
  },
  {
   "cell_type": "markdown",
   "metadata": {},
   "source": [
    "### Defining the Bounds\n",
    "We can define the bounds of the area of interest by considering a geojson file of the part of the river Svir."
   ]
  },
  {
   "cell_type": "code",
   "execution_count": null,
   "metadata": {},
   "outputs": [],
   "source": [
    "SHAPE_PATH = \"./data/Nizhnesvirsky_lower_bay.geojson\"\n",
    "river_gdf = gpd.read_file(SHAPE_PATH)\n",
    "\n",
    "# Convert to EPSG 3035\n",
    "river_gdf = river_gdf.to_crs(\"EPSG:3035\")\n",
    "# Geometry of an entire area\n",
    "resolution = 20\n",
    "\n",
    "data = json.load(open(SHAPE_PATH, \"r\"))\n",
    "\n",
    "# Set center and zoom level\n",
    "center = [60.78, 33.68]\n",
    "zoom = 12\n",
    "\n",
    "# Add OSM background\n",
    "m = Map(basemap=basemaps.OpenStreetMap.Mapnik, center=center, zoom=zoom)\n",
    "\n",
    "# Add geojson data\n",
    "geo_json = GeoJSON(data=data)\n",
    "m.add_layer(geo_json)\n",
    "\n",
    "# Display\n",
    "m"
   ]
  },
  {
   "cell_type": "markdown",
   "metadata": {},
   "source": [
    "Here, we can split the entire time period into 24 slots so that we can get 2 acquisitions every month to capture the freeze-thaw dynamics adequately."
   ]
  },
  {
   "cell_type": "code",
   "execution_count": null,
   "metadata": {},
   "outputs": [],
   "source": [
    "start = datetime.datetime(2022, 9, 1)\n",
    "end = datetime.datetime(2023, 4, 30)\n",
    "n_chunks = 17\n",
    "tdelta = (end - start) / n_chunks\n",
    "edges = [(start + i * tdelta).date().isoformat() for i in range(n_chunks)]\n",
    "slots = [(edges[i], edges[i + 1]) for i in range(len(edges) - 1)]\n",
    "\n",
    "print(\"Monthly time windows:\\n\")\n",
    "for slot in slots:\n",
    "    print(slot)"
   ]
  },
  {
   "cell_type": "markdown",
   "metadata": {},
   "source": [
    "### Requesting Sentinel-1 (SAR) Data\n",
    "We now obtain Sentinel-1 IW SAR images covering the Nizhnesvirsky lower bay in the above mentioned time periods. An evalscript is used to describe the processing that needs to be performed on the SAR imagery. This script defines the input and output expected in the `setup()` function and `evaluatePixel()` function defines operations applied at the pixel level. \n",
    "\n",
    "Note 1: The default output sample type is 'AUTO'. In this case all the values between 0 to 1 are stretched to (0,255) and the values lying outside (0,1) are clipped.\n",
    "\n",
    "The SAR imagery needs to be preprocessed before it can be used. The following pre-processing techniques must be performed to mitigate any noise and errors.\n",
    "- Radiometric calibration to normalize the SAR image intensities (by setting the backscatter coefficient to `SIGMA0_ELLPSOID`).   \n",
    "- Apply `LEE` speckle filtering techniques to reduce noise and enhance the visual quality of the images (Window size is set to `3x3`).   \n",
    "- Apply geometric correction to ensure geometric accuracy and spatial alignment between the images (by applying `COPERNICUS` DEM).\n",
    "\n",
    "The images are filtered according to the ascending orbit and the resolution is set to `HIGH` (20m x 20m)\n",
    "\n",
    "Note 2: Here, we need to be careful about the units. THe units of geometry with WGS84 are degrees. To get a 20m resolution, the geometry must be transformed to `EPSG:3035`."
   ]
  },
  {
   "cell_type": "code",
   "execution_count": null,
   "metadata": {},
   "outputs": [],
   "source": [
    "evalscript_sar = \"\"\"\n",
    "  function setup() {\n",
    "    return {\n",
    "      input: [\"VV\", \"dataMask\"],\n",
    "      output: { bands: 2, sampleType: \"FLOAT32\"}                  // Refer to Note 1\n",
    "    }\n",
    "  }\n",
    "\n",
    "\n",
    "// visualizes decibels from -20 to +10\n",
    "function toDb(linear) {\n",
    "  var log = 10 * Math.log(linear) / Math.LN10\n",
    "  return Math.max(0, (log + 20) / 30)\n",
    "}\n",
    "\n",
    "function evaluatePixel(sample) {\n",
    "  var VV = sample.VV;\n",
    "\n",
    "  return [toDb(VV),sample.dataMask];\n",
    "}\n",
    "\"\"\"\n",
    "\n",
    "\n",
    "def get_sar_request(time_interval):\n",
    "    return SentinelHubRequest(\n",
    "        evalscript=evalscript_sar,\n",
    "        input_data=[\n",
    "            SentinelHubRequest.input_data(\n",
    "                data_collection=DataCollection.SENTINEL1_IW.define_from(\n",
    "                    \"s1iw\", service_url=config.sh_base_url\n",
    "                ),\n",
    "                time_interval=time_interval,\n",
    "                other_args={\n",
    "                    \"dataFilter\": {\n",
    "                        \"resolution\": \"HIGH\",\n",
    "                        \"mosaickingOrder\": \"mostRecent\",\n",
    "                        \"orbitDirection\": \"ASCENDING\",\n",
    "                    },\n",
    "                    \"processing\": {\n",
    "                        \"backCoeff\": \"SIGMA0_ELLIPSOID\",\n",
    "                        \"orthorectify\": True,\n",
    "                        \"demInstance\": \"COPERNICUS\",\n",
    "                        \"speckleFilter\": {\n",
    "                            \"type\": \"LEE\",\n",
    "                            \"windowSizeX\": 3,\n",
    "                            \"windowSizeY\": 3,\n",
    "                        },\n",
    "                    },\n",
    "                },\n",
    "            )\n",
    "        ],\n",
    "        responses=[SentinelHubRequest.output_response(\"default\", MimeType.TIFF)],\n",
    "        geometry=Geometry(river_gdf.geometry.values[0], crs=river_gdf.crs),\n",
    "        resolution=[20, 20],  # Refer to Note 2\n",
    "        config=config,\n",
    "        data_folder=\"./results\",\n",
    "    )"
   ]
  },
  {
   "cell_type": "markdown",
   "metadata": {},
   "source": [
    "We can create a list of all the requests for each of the time slots and run them together. "
   ]
  },
  {
   "cell_type": "code",
   "execution_count": null,
   "metadata": {},
   "outputs": [],
   "source": [
    "# create a list of requests\n",
    "list_of_requests = [get_sar_request(slot) for slot in slots]\n",
    "list_of_requests = [request.download_list[0] for request in list_of_requests]\n",
    "\n",
    "# download data with multiple threads\n",
    "data = SentinelHubDownloadClient(config=config).download(\n",
    "    list_of_requests, max_threads=5\n",
    ")"
   ]
  },
  {
   "cell_type": "markdown",
   "metadata": {},
   "source": [
    "Below are a series of maps that show the SAR imagery in VV mode. This means that the electromagnetic waves are transmitted and received by the Radar on board Sentinel-1 are both oriented to the vertical plane. "
   ]
  },
  {
   "cell_type": "code",
   "execution_count": null,
   "metadata": {},
   "outputs": [],
   "source": [
    "ncols = 4\n",
    "nrows = 4\n",
    "aspect_ratio = 1.5\n",
    "subplot_kw = {\"xticks\": [], \"yticks\": [], \"frame_on\": False}\n",
    "\n",
    "fig, axs = plt.subplots(\n",
    "    ncols=ncols,\n",
    "    nrows=nrows,\n",
    "    figsize=(2 * ncols * aspect_ratio, 5 * nrows),\n",
    "    subplot_kw=subplot_kw,\n",
    ")\n",
    "\n",
    "for idx, image in enumerate(data):\n",
    "    ax = axs[idx // ncols][idx % ncols]\n",
    "    ax.imshow(np.clip((image[:, :, 0]) * 3.5 / 255, 0, 1))\n",
    "    ax.set_title(f\"{slots[idx][0]}  -  {slots[idx][1]}\", fontsize=10)\n",
    "\n",
    "plt.tight_layout()"
   ]
  },
  {
   "cell_type": "markdown",
   "metadata": {},
   "source": [
    "### Estimating a threshold\n",
    "If we look at the images for all time slots, we can see that the pixels in the river become brighter as the winter months approach. This is because the water acts like a mirror and very little backscatter reaches the sensor. However, if there is a structure or disturbance in the water (in this case ice), the electromagnetic waves are scattered in all directions and the chance of detecting this backscatter is higher ([Reference](https://www.mdpi.com/remotesensing/remotesensing-12-02228/article_deploy/html/images/remotesensing-12-02228-g004-550.jpg)). It is possible that not all bright pixels are ice, which can be verified by in-situ measurements.\n",
    "\n",
    "To determine what a good threshold would be to differentiate the water pixels from ice, we can plot the distribution of pixel values within the entire range `(0,255)`."
   ]
  },
  {
   "cell_type": "code",
   "execution_count": null,
   "metadata": {},
   "outputs": [],
   "source": [
    "ncols = 4\n",
    "nrows = 4\n",
    "aspect_ratio = 15 / 10\n",
    "subplot_kw = {\"xticks\": range(0, 255, 25), \"yticks\": [], \"frame_on\": True}\n",
    "\n",
    "fig, axs = plt.subplots(\n",
    "    ncols=ncols,\n",
    "    nrows=nrows,\n",
    "    figsize=(5 * ncols * aspect_ratio, 5 * nrows),\n",
    "    subplot_kw=subplot_kw,\n",
    ")\n",
    "\n",
    "for idx, image in enumerate(data):\n",
    "    histogram, bin_edges = np.histogram(\n",
    "        2.5 * image[:, :, 0], bins=50, range=(0.0000001, 1)\n",
    "    )\n",
    "    ax = axs[idx // ncols][idx % ncols]\n",
    "    ax.plot(bin_edges[0:-1], histogram)\n",
    "    ax.set_xlabel(\"VV value\")\n",
    "    ax.set_ylabel(\"Number of Pixels (K)\")\n",
    "    ax.set_xlim((0, 1))\n",
    "    ax.set_ylim((0, 500))\n",
    "    ax.set_title(f\"{slots[idx][0]}  -  {slots[idx][1]}\", fontsize=10)\n",
    "\n",
    "plt.tight_layout()"
   ]
  },
  {
   "cell_type": "markdown",
   "metadata": {},
   "source": [
    "Considering the historic [weather information](https://www.meteoblue.com/de/wetter/historyclimate/weatherarchive/svir%27stroy_russland_485557?fcstlength=1y&year=2022&month=5) of the region and interpreting the SAR imagery, we can see that the appearance of ice in the river Svir started at the end of November and continued on till mid-March. By looking at the distribution plots above, we can set a threshold at a pixel value 50.\n",
    "\n",
    "The evalscript below creates a visualisation of the ice mask directly after processing the SAR data and checking for the threshold. If the pixel value is more than 50/255, then it is classified at an icy pixel and the `iceMask = 1`. "
   ]
  },
  {
   "cell_type": "code",
   "execution_count": null,
   "metadata": {},
   "outputs": [],
   "source": [
    "evalscript_mask = \"\"\"\n",
    "  function setup() {\n",
    "    return {\n",
    "      input: [\"VV\", \"dataMask\"],\n",
    "      output: { bands: 5 , sampleType: \"UINT8\"}\n",
    "    }\n",
    "  }\n",
    "\n",
    "// visualizes decibels from -20 to +10\n",
    "function toDb(linear) {\n",
    "  var log = 10 * Math.log(linear) / Math.LN10\n",
    "  return Math.max(0, (log + 20) / 30)\n",
    "}\n",
    "\n",
    "function evaluatePixel(sample) {\n",
    "  var VV = sample.VV;\n",
    "  var iceMask = 0;\n",
    "  VVdB = toDb(VV);\n",
    "  if (VVdB >-0.001 && VVdB < 0.2) {\n",
    "    iceMask = 0;\n",
    "    return [0, 0, 255, sample.dataMask, iceMask]; // Water mask\n",
    "  } else if (VVdB > 0.2 && VVdB <1) {\n",
    "    iceMask = 1;\n",
    "    return [0, 255, 255,sample.dataMask, iceMask];\n",
    "  } else {\n",
    "  iceMask = 0;\n",
    "  return [0,0,0,sample.dataMask,iceMask];\n",
    "  }\n",
    "}\n",
    "\"\"\"\n",
    "\n",
    "\n",
    "def get_ice_mask_request(time_interval):\n",
    "    return SentinelHubRequest(\n",
    "        evalscript=evalscript_mask,\n",
    "        input_data=[\n",
    "            SentinelHubRequest.input_data(\n",
    "                data_collection=DataCollection.SENTINEL1_IW.define_from(\n",
    "                    \"s1iw\", service_url=config.sh_base_url\n",
    "                ),\n",
    "                time_interval=time_interval,\n",
    "                other_args={\n",
    "                    \"dataFilter\": {\n",
    "                        \"resolution\": \"HIGH\",\n",
    "                        \"mosaickingOrder\": \"mostRecent\",\n",
    "                        \"orbitDirection\": \"ASCENDING\",\n",
    "                    },\n",
    "                    \"processing\": {\n",
    "                        \"backCoeff\": \"SIGMA0_ELLIPSOID\",\n",
    "                        \"orthorectify\": True,\n",
    "                        \"demInstance\": \"COPERNICUS\",\n",
    "                        \"speckleFilter\": {\n",
    "                            \"type\": \"LEE\",\n",
    "                            \"windowSizeX\": 3,\n",
    "                            \"windowSizeY\": 3,\n",
    "                        },\n",
    "                    },\n",
    "                },\n",
    "            )\n",
    "        ],\n",
    "        responses=[SentinelHubRequest.output_response(\"default\", MimeType.TIFF)],\n",
    "        geometry=Geometry(river_gdf.geometry.values[0], crs=river_gdf.crs),\n",
    "        resolution=[20, 20],\n",
    "        config=config,\n",
    "        data_folder=\"./results_mask\",\n",
    "    )"
   ]
  },
  {
   "cell_type": "code",
   "execution_count": null,
   "metadata": {},
   "outputs": [],
   "source": [
    "# create a list of requests\n",
    "list_of_requests = [get_ice_mask_request(slot) for slot in slots]\n",
    "list_of_requests = [request.download_list[0] for request in list_of_requests]\n",
    "\n",
    "# download data with multiple threads\n",
    "mask_data = SentinelHubDownloadClient(config=config).download(\n",
    "    list_of_requests, max_threads=5\n",
    ")"
   ]
  },
  {
   "cell_type": "markdown",
   "metadata": {},
   "source": [
    "The `mask_data` maps can be plotted as below to visualize the ice pixels and open water pixels. "
   ]
  },
  {
   "cell_type": "code",
   "execution_count": null,
   "metadata": {},
   "outputs": [],
   "source": [
    "ncols = 4\n",
    "nrows = 4\n",
    "aspect_ratio = 1131 / 1819\n",
    "subplot_kw = {\"xticks\": [], \"yticks\": [], \"frame_on\": False}\n",
    "legend_elements = [\n",
    "    Patch(facecolor=\"cyan\", edgecolor=\"c\", label=\"Ice\"),\n",
    "    Patch(facecolor=\"blue\", edgecolor=\"b\", label=\"Water\"),\n",
    "]\n",
    "fig, axs = plt.subplots(\n",
    "    ncols=ncols,\n",
    "    nrows=nrows,\n",
    "    figsize=(5 * ncols * aspect_ratio, 5 * nrows),\n",
    "    subplot_kw=subplot_kw,\n",
    ")\n",
    "\n",
    "for idx, image in enumerate(mask_data):\n",
    "    ax = axs[idx // ncols][idx % ncols]\n",
    "    ax.imshow(np.clip((image[:, :, :3]), 0, 255))\n",
    "    ax.set_title(f\"{slots[idx][0]}  -  {slots[idx][1]}\", fontsize=10)\n",
    "    ax.legend(handles=legend_elements, loc=\"lower right\")\n",
    "\n",
    "plt.tight_layout()"
   ]
  },
  {
   "cell_type": "markdown",
   "metadata": {},
   "source": [
    "### Creating a Timeseries of the area covered by ice\n",
    "\n",
    "Next, we can claculate the area covered by ice by considering the number of pixels classified as ice and multiplying with the initial resolution of the downloaded image, which is 20m x 20m in our case. This is done by counting the number of pixels that have the value `1` in the `iceMask` band. "
   ]
  },
  {
   "cell_type": "code",
   "execution_count": null,
   "metadata": {},
   "outputs": [],
   "source": [
    "def count_ice_pixels(image):\n",
    "    ice_mask = image[:, :, 4]\n",
    "\n",
    "    # Count the number of blue pixels\n",
    "    ice_pixel_count = np.sum(ice_mask)\n",
    "\n",
    "    # print(ice_pixel_count)\n",
    "\n",
    "    return ice_pixel_count"
   ]
  },
  {
   "cell_type": "code",
   "execution_count": null,
   "metadata": {},
   "outputs": [],
   "source": [
    "resolution_s1 = 20 * 20  # meters\n",
    "area_covered_ice = []\n",
    "for idx, image in enumerate(mask_data):\n",
    "    # Count the number of icy pixels\n",
    "    ice_pixels_count = count_ice_pixels(image)\n",
    "    area_covered_ice.append(ice_pixels_count * resolution_s1 / 1000000)"
   ]
  },
  {
   "cell_type": "markdown",
   "metadata": {},
   "source": [
    "The calculated area can be plotted over time to determine the months with peak ice cover over the river."
   ]
  },
  {
   "cell_type": "code",
   "execution_count": null,
   "metadata": {},
   "outputs": [],
   "source": [
    "xlabels = [\n",
    "    \"September\",\n",
    "    \"October\",\n",
    "    \"November\",\n",
    "    \"December\",\n",
    "    \"January\",\n",
    "    \"February\",\n",
    "    \"March\",\n",
    "    \"April\",\n",
    "]\n",
    "x = range(len(slots))\n",
    "plt.plot(range(len(slots)), area_covered_ice)\n",
    "plt.title(\"Time Series of area covered by ice\")\n",
    "plt.xticks(np.arange(0, 16, step=2), xlabels, rotation=30, ha=\"center\")\n",
    "plt.xlabel(\"Time slots\")\n",
    "plt.ylabel(\"Area covered by ice (in $km^2$)\")\n",
    "plt.show()"
   ]
  },
  {
   "cell_type": "markdown",
   "metadata": {},
   "source": [
    "This confirms the hypothesis of the ice formation beginning in mid-to-end of November and the amount of ice cover increasing as the winter progressed. We can also notice that once the ice starts breaking up in mid March, the ice clears out very quickly. "
   ]
  },
  {
   "cell_type": "markdown",
   "metadata": {},
   "source": [
    "### Summary \n",
    "\n",
    "- The classification results will provide temporal information about the freeze-thaw cycle in the Nizhnesvirsky lower bay.\n",
    "- By analyzing the classified maps, we can observe the progression of ice formation, ice breakup, and the duration of open water periods.\n",
    "- Quantitative analysis of ice coverage and open water duration can be derived from the classified maps, aiding in the assessment of seasonal changes and long-term trends."
   ]
  },
  {
   "cell_type": "code",
   "execution_count": null,
   "metadata": {},
   "outputs": [],
   "source": []
  }
 ],
 "metadata": {
  "kernelspec": {
   "display_name": "Sentinel Hub",
   "language": "python",
   "name": "sentinelhub"
  },
  "language_info": {
   "codemirror_mode": {
    "name": "ipython",
    "version": 3
   },
   "file_extension": ".py",
   "mimetype": "text/x-python",
   "name": "python",
   "nbconvert_exporter": "python",
   "pygments_lexer": "ipython3",
   "version": "3.9.13"
  }
 },
 "nbformat": 4,
 "nbformat_minor": 4
}
