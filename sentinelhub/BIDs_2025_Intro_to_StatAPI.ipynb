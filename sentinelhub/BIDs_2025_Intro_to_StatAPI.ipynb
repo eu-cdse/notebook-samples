{
 "cells": [
  {
   "cell_type": "markdown",
   "id": "d1c474f8",
   "metadata": {},
   "source": [
    "## Import Required Libraries\n",
    "\n",
    "Import the necessary libraries for satellite data processing, visualization, and analysis."
   ]
  },
  {
   "cell_type": "code",
   "execution_count": null,
   "id": "6469cb9f",
   "metadata": {},
   "outputs": [],
   "source": [
    "# Utilities\n",
    "import matplotlib.pyplot as plt\n",
    "import matplotlib.dates as mdates\n",
    "import pandas as pd\n",
    "import geopandas as gpd\n",
    "import contextily as cx\n",
    "import getpass\n",
    "import numpy as np\n",
    "from shapely.geometry import box\n",
    "\n",
    "from sentinelhub import (\n",
    "    SHConfig,\n",
    "    DataCollection,\n",
    "    SentinelHubRequest,\n",
    "    SentinelHubStatistical,\n",
    "    SentinelHubStatisticalDownloadClient,\n",
    "    BBox,\n",
    "    bbox_to_dimensions,\n",
    "    CRS,\n",
    "    MimeType,\n",
    "    Geometry,\n",
    "    parse_time,\n",
    ")\n",
    "\n",
    "from utils import plot_image"
   ]
  },
  {
   "cell_type": "markdown",
   "id": "dab67006",
   "metadata": {},
   "source": [
    "## Credentials\n",
    "\n",
    "Credentials for Sentinel Hub services (`client_id` & `client_secret`) can be obtained in your [Dashboard](https://shapps.dataspace.copernicus.eu/dashboard/#/). In the User Settings you can create a new OAuth Client to generate these credentials. For more detailed instructions, visit the relevant [documentation page](https://documentation.dataspace.copernicus.eu/APIs/SentinelHub/Overview/Authentication.html).\n",
    "\n",
    "Now that you have your `client_id` & `client_secret`, it is recommended to configure a new profile in your Sentinel Hub Python package. Instructions on how to configure your Sentinel Hub Python package can be found [here](https://sentinelhub-py.readthedocs.io/en/latest/configure.html). Using these instructions you can create a profile specific to using the package for accessing Copernicus Data Space Ecosystem data collections. This is useful as changes to the the config class are usually only temporary in your notebook and by saving the configuration to your profile you won't need to generate new credentials or overwrite/change the default profile each time you rerun or write a new Jupyter Notebook. \n",
    "\n",
    "If you are a first time user of the Sentinel Hub Python package for Copernicus Data Space Ecosystem, you should create a profile specific to the Copernicus Data Space Ecosystem. You can do this in the following cell:"
   ]
  },
  {
   "cell_type": "code",
   "execution_count": null,
   "id": "4c5ef2a4",
   "metadata": {},
   "outputs": [],
   "source": [
    "# Only run this cell if you have not created a configuration.\n",
    "\n",
    "config = SHConfig()\n",
    "#config.sh_client_id = getpass.getpass(\"Enter your SentinelHub client id\")\n",
    "#config.sh_client_secret = getpass.getpass(\"Enter your SentinelHub client secret\")\n",
    "config.sh_token_url = \"https://identity.dataspace.copernicus.eu/auth/realms/CDSE/protocol/openid-connect/token\"\n",
    "config.sh_base_url = \"https://sh.dataspace.copernicus.eu\"\n",
    "#config.save(\"cdse\")"
   ]
  },
  {
   "cell_type": "code",
   "execution_count": null,
   "id": "535e87ff",
   "metadata": {},
   "outputs": [],
   "source": [
    "# If you have already configured a profile, uncomment and specify your profile name\n",
    "config = SHConfig(\"cdse\")"
   ]
  }
 ],
 "metadata": {
  "language_info": {
   "name": "python"
  }
 },
 "nbformat": 4,
 "nbformat_minor": 5
}
