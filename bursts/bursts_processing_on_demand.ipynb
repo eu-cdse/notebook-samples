{
 "cells": [
  {
   "cell_type": "markdown",
   "id": "d11edabd-9a16-4ff7-ba05-c4dd0adb0f77",
   "metadata": {},
   "source": [
    "## Bursts processing on demand"
   ]
  },
  {
   "cell_type": "markdown",
   "id": "98794225-b8f2-49b6-932a-e9f6fe4ce280",
   "metadata": {},
   "source": [
    "### Introduction\n",
    "Sentinel-1 Interferometric Wide (IW) mode and Extra-Wide Swath (EW) mode single look complex (SLC) data are collected using a form of ScanSAR imaging called Terrain Observation with Progressive Scans SAR (TOPSAR). \n",
    "In these modes, data is collected by cyclically observing, then switching the antenna beam between multiple adjacent sub-swaths. \n",
    "Within each observation of a sub-swath, a short sequence of radar pulses are transmitted in rapid succession, imaging a contiguous portion of the target surface. \n",
    "These short sequences of radar pulses are called “bursts”, and are the fundamental unit of SLC data collected using the TOPSAR technique.\n",
    "\n",
    "Data from many bursts are packaged together to create the standard Sentinel-1 IW and EW SLC products. \n",
    "These products are produced by creating sub-swath images that contain a series of overlapping bursts, where each burst has been processed as a separate SLC image. \n",
    "Sub-swath images from all available swaths (three swaths for IW mode and five swaths for EW mode) are packaged together to create the final SLC products. \n",
    "While data from many bursts are packaged together in the standard SLC products, SLC data from a single burst can be utilized independently.\n",
    "\n",
    "### Bursts processing service\n",
    "Bursts processing service allows you to extract single burst image from the SLC product. In order to do so, run the following steps."
   ]
  },
  {
   "cell_type": "markdown",
   "id": "07309bc7-5235-4b2c-b92b-e3dfa32015f2",
   "metadata": {},
   "source": [
    "## Step 1: Define helper functions and import necessary modules"
   ]
  },
  {
   "cell_type": "code",
   "execution_count": null,
   "id": "94725876-81e3-459c-8487-3a1e29b441bd",
   "metadata": {},
   "outputs": [],
   "source": [
    "import getpass\n",
    "import uuid\n",
    "from pathlib import Path\n",
    "\n",
    "import requests\n",
    "import urllib3\n",
    "\n",
    "urllib3.disable_warnings()\n",
    "\n",
    "\n",
    "TOKEN_URL = \"https://identity.dataspace.copernicus.eu/auth/realms/cdse/protocol/openid-connect/token\"\n",
    "CLIENT_ID = \"cdse-public\"\n",
    "\n",
    "\n",
    "def get_token(username: str, password: str) -> str:\n",
    "    assert username, \"Username is required!\"\n",
    "    assert password, \"Password is required!\"\n",
    "\n",
    "    response = requests.post(\n",
    "        TOKEN_URL,\n",
    "        data={\n",
    "            \"client_id\": CLIENT_ID,\n",
    "            \"username\": username,\n",
    "            \"password\": password,\n",
    "            \"grant_type\": \"password\",\n",
    "        },\n",
    "    )\n",
    "    response.raise_for_status()\n",
    "\n",
    "    access_token = response.json()[\"access_token\"]\n",
    "    print(\"Acquired keycloak token!\")\n",
    "\n",
    "    return access_token\n",
    "\n",
    "\n",
    "def process_burst(burst_id: str, token: str, output_dir: Path) -> None:\n",
    "    assert burst_id, \"Burst ID is required!\"\n",
    "    assert token, \"Keycloak token is required!\"\n",
    "\n",
    "    print(\"Processing burst...\")\n",
    "\n",
    "    response = requests.post(\n",
    "        f\"https://catalogue.dataspace.copernicus.eu/odata/v1/Bursts({burst_id})/$value\",\n",
    "        headers={\"Authorization\": f\"Bearer {token}\"},\n",
    "        verify=False,\n",
    "        allow_redirects=False,\n",
    "        stream=True,\n",
    "    )\n",
    "\n",
    "    if 300 <= response.status_code < 400:\n",
    "        redirect_url = response.headers[\"Location\"]\n",
    "        response = requests.post(\n",
    "            redirect_url, headers={\"Authorization\": f\"Bearer {token}\"}, verify=False, stream=True, allow_redirects=False\n",
    "        )\n",
    "\n",
    "    if response.status_code != 200:\n",
    "        err_msg = response.json() if response.headers.get(\"Content-Type\") == \"application/json\" else response.text\n",
    "        raise RuntimeError(f\"Failed to process burst: \\n{err_msg}\")\n",
    "\n",
    "    print(\"Processing has been successful!\")\n",
    "\n",
    "    try:\n",
    "        zipfile_name = response.headers[\"Content-Disposition\"].split(\"filename=\")[1]\n",
    "    except (KeyError, IndexError):\n",
    "        zipfile_name = \"output_burst.zip\"\n",
    "\n",
    "    output_path = output_dir / zipfile_name\n",
    "    print(\"Saving output product...\")\n",
    "    with open(output_path, \"wb\") as target_file:\n",
    "        for chunk in response.iter_content(chunk_size=8192):\n",
    "            target_file.write(chunk)\n",
    "    print(\"Output product has been saved to:\", output_path)"
   ]
  },
  {
   "cell_type": "markdown",
   "id": "21525ba9-1a31-44e8-a303-bdee9813ac22",
   "metadata": {},
   "source": [
    "## Step 2: Define user credentials"
   ]
  },
  {
   "cell_type": "code",
   "execution_count": null,
   "id": "9038d708-4e1c-44f2-a2d5-1c34005e629c",
   "metadata": {},
   "outputs": [],
   "source": [
    "USERNAME = input(\"Enter your CDSE username:\")\n",
    "PASSWORD = getpass.getpass(prompt='Enter your CDSE Password: ', stream=None)\n",
    "\n",
    "TOKEN = get_token(username=USERNAME, password=PASSWORD)"
   ]
  },
  {
   "cell_type": "markdown",
   "id": "8544377e-bb1f-468c-8d9e-34b90f67c3b4",
   "metadata": {},
   "source": [
    "## Step 3: Define burst_id\n",
    "(can be found in catalogue https://catalogue.dataspace.copernicus.eu/odata/v1/Bursts?$orderby=ContentDate/Start%20desc - field called Id)"
   ]
  },
  {
   "cell_type": "code",
   "execution_count": null,
   "id": "42b667c5-cfcd-4771-b682-9cf16a952894",
   "metadata": {},
   "outputs": [],
   "source": [
    "BURST_ID = input(\"Enter burst uuid (from catalogue):\")\n",
    "\n",
    "try:\n",
    "    uuid.UUID(BURST_ID)\n",
    "except ValueError:\n",
    "    raise ValueError(\"Burst ID is not a valid UUID!\")\n",
    "\n",
    "response = requests.get(f\"https://catalogue.dataspace.copernicus.eu/odata/v1/Bursts({BURST_ID})\")\n",
    "\n",
    "if response.status_code == 404:\n",
    "    raise ValueError(f\"Burst with uuid '{BURST_ID}' not found in catalogue!\")\n",
    "\n",
    "response.raise_for_status()"
   ]
  },
  {
   "cell_type": "markdown",
   "id": "ad37a777-a131-45e9-ab03-3796cb9fecca",
   "metadata": {},
   "source": [
    "## Step 4: Define directory where the produced burst zip should be stored (if left empty the product will be saved in working directory)"
   ]
  },
  {
   "cell_type": "code",
   "execution_count": null,
   "id": "00e26a6e-e403-49ae-b5fd-5cd7e26caa08",
   "metadata": {},
   "outputs": [],
   "source": [
    "output_dir = input(\"OUTPUT_DIR:\")\n",
    "OUTPUT_DIR = Path(output_dir)\n",
    "\n",
    "if not OUTPUT_DIR.exists():\n",
    "    try:\n",
    "        OUTPUT_DIR.mkdir(exists_ok=True, parents=True)\n",
    "    except Exception as err:\n",
    "        raise FileNotFoundError(\"Could not find nor create output directory\") from err"
   ]
  },
  {
   "cell_type": "markdown",
   "id": "9381ea2f-3a71-4820-8ab2-ec6a44ff2af6",
   "metadata": {},
   "source": [
    "## Final step: Run burst processing and await output"
   ]
  },
  {
   "cell_type": "code",
   "execution_count": null,
   "id": "9507be24-97fd-4f37-8546-345b928cd139",
   "metadata": {},
   "outputs": [],
   "source": [
    "process_burst(burst_id=BURST_ID, token=TOKEN, output_dir=OUTPUT_DIR)"
   ]
  }
 ],
 "metadata": {
  "kernelspec": {
   "display_name": "Python 3 (ipykernel)",
   "language": "python",
   "name": "python3"
  },
  "language_info": {
   "codemirror_mode": {
    "name": "ipython",
    "version": 3
   },
   "file_extension": ".py",
   "mimetype": "text/x-python",
   "name": "python",
   "nbconvert_exporter": "python",
   "pygments_lexer": "ipython3",
   "version": "3.11.4"
  }
 },
 "nbformat": 4,
 "nbformat_minor": 5
}
